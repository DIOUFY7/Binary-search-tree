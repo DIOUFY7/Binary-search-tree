{
  "cells": [
    {
      "cell_type": "markdown",
      "metadata": {
        "id": "dFuN-_t0ak3j"
      },
      "source": [
        "##**M2 BASIC COMPUTER SCIENCES**\n",
        "\n",
        "\n",
        "---\n",
        "\n",
        "\n",
        "            Mamadou DIOUF\n",
        "\n"
      ]
    },
    {
      "cell_type": "markdown",
      "metadata": {
        "id": "lNACkW3fbQcQ"
      },
      "source": [
        "##**Experimental study**"
      ]
    },
    {
      "cell_type": "markdown",
      "metadata": {
        "id": "uJ-0pqtfbobQ"
      },
      "source": [
        "#Question 1"
      ]
    },
    {
      "cell_type": "code",
      "execution_count": null,
      "metadata": {
        "id": "-hkppzgSqZB4"
      },
      "outputs": [],
      "source": [
        "import random\n",
        "import numpy as np"
      ]
    },
    {
      "cell_type": "code",
      "execution_count": null,
      "metadata": {
        "id": "OP3ZI4oXu9mL"
      },
      "outputs": [],
      "source": [
        "def random_perm(n): #permutation of {0,1,...,n-1}\n",
        "    perm = list(range(n))\n",
        "    random.shuffle(perm)\n",
        "    return perm"
      ]
    },
    {
      "cell_type": "code",
      "execution_count": null,
      "metadata": {
        "colab": {
          "base_uri": "https://localhost:8080/"
        },
        "id": "59CYS4nZvYQg",
        "outputId": "d3324f6b-b923-46b2-e745-f9e2f95b113b"
      },
      "outputs": [
        {
          "output_type": "stream",
          "name": "stdout",
          "text": [
            "[5, 4, 8, 9, 3, 2, 6, 1, 0, 7]\n",
            "[7, 1, 9, 4, 3, 0, 5, 8, 6, 2]\n",
            "[7, 6, 8, 2, 3, 5, 1, 4, 9, 0]\n",
            "[9, 2, 6, 0, 8, 5, 1, 7, 3, 4]\n",
            "[8, 6, 0, 5, 2, 7, 9, 4, 1, 3]\n",
            "[9, 0, 5, 4, 7, 1, 2, 8, 3, 6]\n",
            "[4, 9, 5, 6, 7, 3, 1, 2, 8, 0]\n",
            "[7, 0, 2, 9, 8, 4, 5, 1, 3, 6]\n",
            "[6, 0, 5, 8, 1, 2, 7, 3, 9, 4]\n",
            "[1, 9, 7, 6, 2, 5, 0, 3, 4, 8]\n"
          ]
        }
      ],
      "source": [
        "for i in range(10):  #examples of permutations\n",
        "  print(random_perm(10))\n"
      ]
    },
    {
      "cell_type": "markdown",
      "metadata": {
        "id": "zJFdFjVHcAiY"
      },
      "source": [
        "#Question 2\n",
        "---\n",
        "\n",
        "We define two functions for adding an element x in a BST B:\n",
        "  \n",
        "\n",
        "*   **add_bst** : make a perfect heaps, value parent less than values of his children.\n",
        "*   **add_bst2**: more random with just value of left child less than value of right child\n",
        "\n"
      ]
    },
    {
      "cell_type": "code",
      "execution_count": null,
      "metadata": {
        "colab": {
          "base_uri": "https://localhost:8080/"
        },
        "id": "izdRj68rx2EL",
        "outputId": "547e5ef6-bac8-432f-9394-27ef9e3b8cb2"
      },
      "outputs": [
        {
          "output_type": "execute_result",
          "data": {
            "text/plain": [
              "3"
            ]
          },
          "metadata": {},
          "execution_count": 4
        }
      ],
      "source": [
        "A=[2,[4,[8,[10,None,None],[12,None,None]],[5,None,None]],[7,[11,None,None],[9,None,None] ]] #Example of bst\n",
        "len(A)"
      ]
    },
    {
      "cell_type": "code",
      "execution_count": null,
      "metadata": {
        "id": "Lz3T4TZovuH3"
      },
      "outputs": [],
      "source": [
        "def add_bst(BB,x):\n",
        "  B=BB\n",
        "  if B==None:       #Empty tree\n",
        "    B=[x,None,None]\n",
        "    return B\n",
        "  B=BB.copy()\n",
        "  if B[0]>=x and type(B[1])==list and type(B[2])==list: #Has no None child, parent bigger than x\n",
        "    B=[x,[B[0],None,B[1]],B[2]]\n",
        "    return B\n",
        "  if B[0]>=x and B[1]==None:  #no left child, parent bigger than x\n",
        "    B=[B[0],[x,None,None],B[2]]\n",
        "    return B\n",
        "  if B[0]>=x and type(B[1])==list and B[2]==None: #left child and no right child, parent bigger than x\n",
        "    B=[B[0],B[1],[x,None,None]]\n",
        "    return B\n",
        "  if B[0]>=x and B[1]==None and B[2]==None:  #No child parent bigger than x\n",
        "    B=[B[0],B[1],[x,None,None]]\n",
        "    return B\n",
        "  if B[0]<x and B[1]==None and B[2]==None:  #No child and parent smaller than x\n",
        "    B=[B[0],[x,None,None],None]\n",
        "    return B\n",
        "  else:\n",
        "    B=[B[0],B[1],add_bst(B[2],x)]\n",
        "    return B\n",
        "\n"
      ]
    },
    {
      "cell_type": "code",
      "execution_count": null,
      "metadata": {
        "id": "jIuBd-s3P8xO"
      },
      "outputs": [],
      "source": [
        "def add_bst2(BB,x):\n",
        "\n",
        "  B=BB\n",
        "  if B==None:\n",
        "    B=[x,None,None]\n",
        "    return B\n",
        "  B=BB.copy()\n",
        "  if B[0]>=x and B[1]==None: #parent bigger than x and no left child\n",
        "    B[1]=[x,None,None]\n",
        "    return B\n",
        "  if B[0]>=x and B[1]!=None: #parent bigger than x with left child\n",
        "    B=[B[0],add_bst2(B[1],x),B[2]]\n",
        "    return B\n",
        "  if B[0]<x and B[2]==None:  #parent smaller than x no right child\n",
        "    B[2]=[x,None,None]\n",
        "    return B\n",
        "  if B[0]<x and B[2]!=None:  #parent smaller than x with right child\n",
        "    B=[B[0],B[1],add_bst2(B[2],x)]\n",
        "    return B\n",
        "\n",
        "\n"
      ]
    },
    {
      "cell_type": "markdown",
      "metadata": {
        "id": "A3eCdHVaprvw"
      },
      "source": [
        "#Question 3\n",
        "---\n",
        "We define a function **height(B)** that returns the height of the BST B."
      ]
    },
    {
      "cell_type": "code",
      "execution_count": null,
      "metadata": {
        "id": "lGTklQo_RrnZ"
      },
      "outputs": [],
      "source": [
        "def height(B):      # height of tree B\n",
        "  if type(B)!=list: #Empty tree\n",
        "    return -1\n",
        "  else:\n",
        "\n",
        "    return 1+max(height(B[1]),height(B[2]))"
      ]
    },
    {
      "cell_type": "code",
      "execution_count": null,
      "metadata": {
        "colab": {
          "base_uri": "https://localhost:8080/"
        },
        "id": "hBc2ihJMXJET",
        "outputId": "4facb1ab-1a80-4a8e-c925-d72287511418"
      },
      "outputs": [
        {
          "output_type": "execute_result",
          "data": {
            "text/plain": [
              "3"
            ]
          },
          "metadata": {},
          "execution_count": 8
        }
      ],
      "source": [
        "height(A)"
      ]
    },
    {
      "cell_type": "code",
      "execution_count": null,
      "metadata": {
        "colab": {
          "base_uri": "https://localhost:8080/"
        },
        "id": "fiPFhV_sSQAn",
        "outputId": "504c7c0a-4937-42ee-8861-5d4c384b9280"
      },
      "outputs": [
        {
          "output_type": "stream",
          "name": "stdout",
          "text": [
            "The height of E is 4\n",
            "The height of F is 4\n",
            "The height of G is 5\n",
            "The height of H is 5\n"
          ]
        }
      ],
      "source": [
        "C=add_bst(A,13)\n",
        "D=add_bst(C,14)\n",
        "E=add_bst(D,15)\n",
        "F=add_bst(E,16)\n",
        "G=add_bst(F,17)\n",
        "H=add_bst(G,18)\n",
        "print(\"The height of E is \"+str(height(E)))\n",
        "print(\"The height of F is \"+str(height(F)))\n",
        "print(\"The height of G is \"+str(height(G)))\n",
        "print(\"The height of H is \"+str(height(H)))"
      ]
    },
    {
      "cell_type": "code",
      "execution_count": null,
      "metadata": {
        "id": "vCitsx6LI4pa"
      },
      "outputs": [],
      "source": []
    },
    {
      "cell_type": "code",
      "execution_count": null,
      "metadata": {
        "colab": {
          "base_uri": "https://localhost:8080/"
        },
        "id": "hsLTewZyDsta",
        "outputId": "63c7bd0e-5acf-45b8-dd73-0571e1b2bde4"
      },
      "outputs": [
        {
          "output_type": "stream",
          "name": "stdout",
          "text": [
            "Collecting ColabTurtle\n",
            "  Downloading ColabTurtle-2.1.0.tar.gz (6.8 kB)\n",
            "  Preparing metadata (setup.py) ... \u001b[?25l\u001b[?25hdone\n",
            "Building wheels for collected packages: ColabTurtle\n",
            "  Building wheel for ColabTurtle (setup.py) ... \u001b[?25l\u001b[?25hdone\n",
            "  Created wheel for ColabTurtle: filename=ColabTurtle-2.1.0-py3-none-any.whl size=7642 sha256=3921108c832a8521ad00fa1f7abb900cc688c3e7be96a35063d2410cf7954a8d\n",
            "  Stored in directory: /root/.cache/pip/wheels/5b/86/e8/54f5c8c853606e3a3060bb2e60363cbed632374a12e0f33ffc\n",
            "Successfully built ColabTurtle\n",
            "Installing collected packages: ColabTurtle\n",
            "Successfully installed ColabTurtle-2.1.0\n"
          ]
        }
      ],
      "source": [
        "pip install ColabTurtle"
      ]
    },
    {
      "cell_type": "code",
      "execution_count": null,
      "metadata": {
        "id": "CpH06rcGEiAV"
      },
      "outputs": [],
      "source": [
        " import ColabTurtle.Turtle as t"
      ]
    },
    {
      "cell_type": "code",
      "execution_count": null,
      "metadata": {
        "id": "CYNoJ49kQFMX"
      },
      "outputs": [],
      "source": [
        "import math\n",
        "\n",
        "def draw_tree(x, y, angle, depth, branch_len, tree_structure):\n",
        "\n",
        "    if depth > 0:\n",
        "        # Calculate new positions for branches\n",
        "        x1 = x + depth*branch_len * math.cos(math.radians(angle))\n",
        "        y1 = y + depth*branch_len * math.sin(math.radians(angle))\n",
        "        x2 = x + depth*branch_len * math.cos(math.radians(angle+90 ))\n",
        "        y2 = y + depth*branch_len * math.sin(math.radians(angle+90  ))\n",
        "\n",
        "        if type(tree_structure)==list:\n",
        "        # Draw branches\n",
        "          t.penup()\n",
        "          t.goto(x, y)\n",
        "\n",
        "          if tree_structure[2]!=None:\n",
        "            t.goto(x,y+10)\n",
        "            t.pendown()\n",
        "            t.goto(x1, y1)\n",
        "            t.penup()\n",
        "            t.goto(x,y+10)\n",
        "\n",
        "\n",
        "          if tree_structure[1]!=None:\n",
        "            t.pendown()\n",
        "            t.goto(x2, y2)\n",
        "\n",
        "\n",
        "\n",
        "          # Write the node value\n",
        "          t.penup()\n",
        "\n",
        "\n",
        "          t.goto(x, y)\n",
        "          #print(tree_structure)\n",
        "          t.write(tree_structure[0], align=\"center\")\n",
        "          #t.goto((x + x2) / 2, (y + y2) / 2)\n",
        "          #t.write(tree_structure[1], align=\"center\", font=(\"Arial\", 12, \"normal\"))\n",
        "\n",
        "          # Recursively draw subtrees\n",
        "          draw_tree(x1, y1+10, angle-10, depth - 1, branch_len*0.8 , tree_structure[2])\n",
        "          draw_tree(x2, y2+10, angle+10 , depth - 1, branch_len*0.8 , tree_structure[1])\n",
        "\n",
        "\n"
      ]
    },
    {
      "cell_type": "code",
      "execution_count": null,
      "metadata": {
        "colab": {
          "base_uri": "https://localhost:8080/",
          "height": 521
        },
        "id": "2BE4XQy3wlzV",
        "outputId": "9bf43fd0-ccfb-4254-e346-0ce414eea9bf"
      },
      "outputs": [
        {
          "output_type": "display_data",
          "data": {
            "text/plain": [
              "<IPython.core.display.HTML object>"
            ],
            "text/html": [
              "\n",
              "      <svg width=\"800\" height=\"500\">\n",
              "        <rect width=\"100%\" height=\"100%\" fill=\"black\"/>\n",
              "        <line x1=\"400\" y1=\"110\" x2=\"484.853\" y2=\"184.853\" stroke-linecap=\"round\" style=\"stroke:white;stroke-width:4\"/><line x1=\"400\" y1=\"110\" x2=\"315.147\" y2=\"184.853\" stroke-linecap=\"round\" style=\"stroke:white;stroke-width:4\"/><text x=\"400\" y=\"100\" fill=\"white\" text-anchor=\"middle\" style=\"font-size:12px;font-family:'Arial';\">2</text><line x1=\"484.853\" y1=\"204.853\" x2=\"543.832\" y2=\"236.15\" stroke-linecap=\"round\" style=\"stroke:white;stroke-width:4\"/><line x1=\"484.853\" y1=\"204.853\" x2=\"443.555\" y2=\"253.832\" stroke-linecap=\"round\" style=\"stroke:white;stroke-width:4\"/><text x=\"484.853\" y=\"194.853\" fill=\"white\" text-anchor=\"middle\" style=\"font-size:12px;font-family:'Arial';\">7</text><text x=\"543.832\" y=\"246.15\" fill=\"white\" text-anchor=\"middle\" style=\"font-size:12px;font-family:'Arial';\">9</text><text x=\"443.555\" y=\"263.832\" fill=\"white\" text-anchor=\"middle\" style=\"font-size:12px;font-family:'Arial';\">11</text><line x1=\"315.147\" y1=\"204.853\" x2=\"356.445\" y2=\"253.832\" stroke-linecap=\"round\" style=\"stroke:white;stroke-width:4\"/><line x1=\"315.147\" y1=\"204.853\" x2=\"256.168\" y2=\"236.15\" stroke-linecap=\"round\" style=\"stroke:white;stroke-width:4\"/><text x=\"315.147\" y=\"194.853\" fill=\"white\" text-anchor=\"middle\" style=\"font-size:12px;font-family:'Arial';\">4</text><text x=\"356.445\" y=\"263.832\" fill=\"white\" text-anchor=\"middle\" style=\"font-size:12px;font-family:'Arial';\">5</text><line x1=\"256.168\" y1=\"256.15\" x2=\"272.397\" y2=\"280.953\" stroke-linecap=\"round\" style=\"stroke:white;stroke-width:4\"/><line x1=\"256.168\" y1=\"256.15\" x2=\"221.366\" y2=\"262.379\" stroke-linecap=\"round\" style=\"stroke:white;stroke-width:4\"/><text x=\"256.168\" y=\"246.15\" fill=\"white\" text-anchor=\"middle\" style=\"font-size:12px;font-family:'Arial';\">8</text><text x=\"272.397\" y=\"290.953\" fill=\"white\" text-anchor=\"middle\" style=\"font-size:12px;font-family:'Arial';\">12</text><text x=\"221.366\" y=\"272.379\" fill=\"white\" text-anchor=\"middle\" style=\"font-size:12px;font-family:'Arial';\">10</text>\n",
              "        <g visibility=hidden transform=\"rotate(360,221.366,272.379) translate(203.366, 254.37900000000002)\">\n",
              "<path style=\" stroke:none;fill-rule:evenodd;fill:white;fill-opacity:1;\" d=\"M 18.214844 0.632812 C 16.109375 1.800781 15.011719 4.074219 15.074219 7.132812 L 15.085938 7.652344 L 14.785156 7.496094 C 13.476562 6.824219 11.957031 6.671875 10.40625 7.066406 C 8.46875 7.550781 6.515625 9.15625 4.394531 11.992188 C 3.0625 13.777344 2.679688 14.636719 3.042969 15.027344 L 3.15625 15.152344 L 3.519531 15.152344 C 4.238281 15.152344 4.828125 14.886719 8.1875 13.039062 C 9.386719 12.378906 10.371094 11.839844 10.378906 11.839844 C 10.386719 11.839844 10.355469 11.929688 10.304688 12.035156 C 9.832031 13.09375 9.257812 14.820312 8.96875 16.078125 C 7.914062 20.652344 8.617188 24.53125 11.070312 27.660156 C 11.351562 28.015625 11.363281 27.914062 10.972656 28.382812 C 8.925781 30.84375 7.945312 33.28125 8.238281 35.1875 C 8.289062 35.527344 8.28125 35.523438 8.917969 35.523438 C 10.941406 35.523438 13.074219 34.207031 15.136719 31.6875 C 15.359375 31.417969 15.328125 31.425781 15.5625 31.574219 C 16.292969 32.042969 18.023438 32.964844 18.175781 32.964844 C 18.335938 32.964844 19.941406 32.210938 20.828125 31.71875 C 20.996094 31.625 21.136719 31.554688 21.136719 31.558594 C 21.203125 31.664062 21.898438 32.414062 22.222656 32.730469 C 23.835938 34.300781 25.5625 35.132812 27.582031 35.300781 C 27.90625 35.328125 27.9375 35.308594 28.007812 34.984375 C 28.382812 33.242188 27.625 30.925781 25.863281 28.425781 L 25.542969 27.96875 L 25.699219 27.785156 C 28.945312 23.960938 29.132812 18.699219 26.257812 11.96875 L 26.207031 11.84375 L 27.945312 12.703125 C 31.53125 14.476562 32.316406 14.800781 33.03125 14.800781 C 33.976562 14.800781 33.78125 13.9375 32.472656 12.292969 C 28.519531 7.355469 25.394531 5.925781 21.921875 7.472656 L 21.558594 7.636719 L 21.578125 7.542969 C 21.699219 6.992188 21.761719 5.742188 21.699219 5.164062 C 21.496094 3.296875 20.664062 1.964844 19.003906 0.855469 C 18.480469 0.503906 18.457031 0.5 18.214844 0.632812\"/>\n",
              "</g>\n",
              "      </svg>\n",
              "    "
            ]
          },
          "metadata": {}
        }
      ],
      "source": [
        "# Set up the t graphics window\n",
        "t.initializeTurtle()\n",
        "t.hideturtle()\n",
        "t.penup()\n",
        "\n",
        "# Initial position and parameters\n",
        "x = 400\n",
        "y= 100\n",
        "angle = 45\n",
        "depth = 3\n",
        "branch_len = 30\n",
        "\n",
        "# Define the tree structure\n",
        "tree_structure =A\n",
        "\n",
        "# Draw the tree\n",
        "draw_tree(x, y, angle, height(tree_structure)+1, branch_len, tree_structure)\n"
      ]
    },
    {
      "cell_type": "code",
      "execution_count": null,
      "metadata": {
        "colab": {
          "base_uri": "https://localhost:8080/",
          "height": 521
        },
        "id": "aRaMs_hnJzXK",
        "outputId": "b2f38765-ac0f-432a-d3db-1f1eeb188a30"
      },
      "outputs": [
        {
          "output_type": "display_data",
          "data": {
            "text/plain": [
              "<IPython.core.display.HTML object>"
            ],
            "text/html": [
              "\n",
              "      <svg width=\"800\" height=\"500\">\n",
              "        <rect width=\"100%\" height=\"100%\" fill=\"black\"/>\n",
              "        <text x=\"400\" y=\"25\" fill=\"white\" text-anchor=\"start\" style=\"font-size:12px;font-family:'Arial';\">Tree C</text><line x1=\"400\" y1=\"110\" x2=\"470.711\" y2=\"170.711\" stroke-linecap=\"round\" style=\"stroke:white;stroke-width:4\"/><line x1=\"400\" y1=\"110\" x2=\"329.289\" y2=\"170.711\" stroke-linecap=\"round\" style=\"stroke:white;stroke-width:4\"/><text x=\"400\" y=\"100\" fill=\"white\" text-anchor=\"middle\" style=\"font-size:12px;font-family:'Arial';\">2</text><line x1=\"470.711\" y1=\"190.711\" x2=\"519.86\" y2=\"215.125\" stroke-linecap=\"round\" style=\"stroke:white;stroke-width:4\"/><line x1=\"470.711\" y1=\"190.711\" x2=\"436.296\" y2=\"229.86\" stroke-linecap=\"round\" style=\"stroke:white;stroke-width:4\"/><text x=\"470.711\" y=\"180.711\" fill=\"white\" text-anchor=\"middle\" style=\"font-size:12px;font-family:'Arial';\">7</text><line x1=\"519.86\" y1=\"225.125\" x2=\"506.336\" y2=\"254.127\" stroke-linecap=\"round\" style=\"stroke:white;stroke-width:4\"/><text x=\"519.86\" y=\"225.125\" fill=\"white\" text-anchor=\"middle\" style=\"font-size:12px;font-family:'Arial';\">9</text><text x=\"506.336\" y=\"264.127\" fill=\"white\" text-anchor=\"middle\" style=\"font-size:12px;font-family:'Arial';\">13</text><text x=\"436.296\" y=\"239.86\" fill=\"white\" text-anchor=\"middle\" style=\"font-size:12px;font-family:'Arial';\">11</text><line x1=\"329.289\" y1=\"190.711\" x2=\"363.704\" y2=\"229.86\" stroke-linecap=\"round\" style=\"stroke:white;stroke-width:4\"/><line x1=\"329.289\" y1=\"190.711\" x2=\"280.14\" y2=\"215.125\" stroke-linecap=\"round\" style=\"stroke:white;stroke-width:4\"/><text x=\"329.289\" y=\"180.711\" fill=\"white\" text-anchor=\"middle\" style=\"font-size:12px;font-family:'Arial';\">4</text><text x=\"363.704\" y=\"239.86\" fill=\"white\" text-anchor=\"middle\" style=\"font-size:12px;font-family:'Arial';\">5</text><line x1=\"280.14\" y1=\"235.125\" x2=\"293.664\" y2=\"254.127\" stroke-linecap=\"round\" style=\"stroke:white;stroke-width:4\"/><line x1=\"280.14\" y1=\"235.125\" x2=\"251.138\" y2=\"238.649\" stroke-linecap=\"round\" style=\"stroke:white;stroke-width:4\"/><text x=\"280.14\" y=\"225.125\" fill=\"white\" text-anchor=\"middle\" style=\"font-size:12px;font-family:'Arial';\">8</text><text x=\"293.664\" y=\"264.127\" fill=\"white\" text-anchor=\"middle\" style=\"font-size:12px;font-family:'Arial';\">12</text><text x=\"251.138\" y=\"248.649\" fill=\"white\" text-anchor=\"middle\" style=\"font-size:12px;font-family:'Arial';\">10</text>\n",
              "        <g visibility=hidden transform=\"rotate(360,251.138,248.649) translate(233.138, 230.649)\">\n",
              "<path style=\" stroke:none;fill-rule:evenodd;fill:white;fill-opacity:1;\" d=\"M 18.214844 0.632812 C 16.109375 1.800781 15.011719 4.074219 15.074219 7.132812 L 15.085938 7.652344 L 14.785156 7.496094 C 13.476562 6.824219 11.957031 6.671875 10.40625 7.066406 C 8.46875 7.550781 6.515625 9.15625 4.394531 11.992188 C 3.0625 13.777344 2.679688 14.636719 3.042969 15.027344 L 3.15625 15.152344 L 3.519531 15.152344 C 4.238281 15.152344 4.828125 14.886719 8.1875 13.039062 C 9.386719 12.378906 10.371094 11.839844 10.378906 11.839844 C 10.386719 11.839844 10.355469 11.929688 10.304688 12.035156 C 9.832031 13.09375 9.257812 14.820312 8.96875 16.078125 C 7.914062 20.652344 8.617188 24.53125 11.070312 27.660156 C 11.351562 28.015625 11.363281 27.914062 10.972656 28.382812 C 8.925781 30.84375 7.945312 33.28125 8.238281 35.1875 C 8.289062 35.527344 8.28125 35.523438 8.917969 35.523438 C 10.941406 35.523438 13.074219 34.207031 15.136719 31.6875 C 15.359375 31.417969 15.328125 31.425781 15.5625 31.574219 C 16.292969 32.042969 18.023438 32.964844 18.175781 32.964844 C 18.335938 32.964844 19.941406 32.210938 20.828125 31.71875 C 20.996094 31.625 21.136719 31.554688 21.136719 31.558594 C 21.203125 31.664062 21.898438 32.414062 22.222656 32.730469 C 23.835938 34.300781 25.5625 35.132812 27.582031 35.300781 C 27.90625 35.328125 27.9375 35.308594 28.007812 34.984375 C 28.382812 33.242188 27.625 30.925781 25.863281 28.425781 L 25.542969 27.96875 L 25.699219 27.785156 C 28.945312 23.960938 29.132812 18.699219 26.257812 11.96875 L 26.207031 11.84375 L 27.945312 12.703125 C 31.53125 14.476562 32.316406 14.800781 33.03125 14.800781 C 33.976562 14.800781 33.78125 13.9375 32.472656 12.292969 C 28.519531 7.355469 25.394531 5.925781 21.921875 7.472656 L 21.558594 7.636719 L 21.578125 7.542969 C 21.699219 6.992188 21.761719 5.742188 21.699219 5.164062 C 21.496094 3.296875 20.664062 1.964844 19.003906 0.855469 C 18.480469 0.503906 18.457031 0.5 18.214844 0.632812\"/>\n",
              "</g>\n",
              "      </svg>\n",
              "    "
            ]
          },
          "metadata": {}
        }
      ],
      "source": [
        "C=add_bst(A,13)  #Example\n",
        "# Set up the t graphics window\n",
        "t.initializeTurtle()\n",
        "t.hideturtle()\n",
        "t.penup()\n",
        "t.goto(400,25)\n",
        "t.write(\"Tree C\")\n",
        "t.penup()\n",
        "\n",
        "# Initial position and parameters\n",
        "x = 400\n",
        "y= 100\n",
        "angle = 45\n",
        "depth = 3\n",
        "branch_len = 25\n",
        "\n",
        "# Define the tree structure\n",
        "tree_structure =C\n",
        "\n",
        "# Draw the tree\n",
        "draw_tree(x, y, angle, height(tree_structure)+1, branch_len, tree_structure)\n"
      ]
    },
    {
      "cell_type": "code",
      "execution_count": null,
      "metadata": {
        "colab": {
          "base_uri": "https://localhost:8080/",
          "height": 521
        },
        "id": "7jzZK_Wnf7fv",
        "outputId": "8a2ea336-078e-44af-99c4-f6baa39760bd"
      },
      "outputs": [
        {
          "output_type": "display_data",
          "data": {
            "text/plain": [
              "<IPython.core.display.HTML object>"
            ],
            "text/html": [
              "\n",
              "      <svg width=\"800\" height=\"500\">\n",
              "        <rect width=\"100%\" height=\"100%\" fill=\"black\"/>\n",
              "        <text x=\"400\" y=\"25\" fill=\"white\" text-anchor=\"start\" style=\"font-size:12px;font-family:'Arial';\">Tree D</text><line x1=\"400\" y1=\"110\" x2=\"470.711\" y2=\"170.711\" stroke-linecap=\"round\" style=\"stroke:white;stroke-width:4\"/><line x1=\"400\" y1=\"110\" x2=\"329.289\" y2=\"170.711\" stroke-linecap=\"round\" style=\"stroke:white;stroke-width:4\"/><text x=\"400\" y=\"100\" fill=\"white\" text-anchor=\"middle\" style=\"font-size:12px;font-family:'Arial';\">2</text><line x1=\"470.711\" y1=\"190.711\" x2=\"519.86\" y2=\"215.125\" stroke-linecap=\"round\" style=\"stroke:white;stroke-width:4\"/><line x1=\"470.711\" y1=\"190.711\" x2=\"436.296\" y2=\"229.86\" stroke-linecap=\"round\" style=\"stroke:white;stroke-width:4\"/><text x=\"470.711\" y=\"180.711\" fill=\"white\" text-anchor=\"middle\" style=\"font-size:12px;font-family:'Arial';\">7</text><line x1=\"519.86\" y1=\"235.125\" x2=\"548.862\" y2=\"238.649\" stroke-linecap=\"round\" style=\"stroke:white;stroke-width:4\"/><line x1=\"519.86\" y1=\"235.125\" x2=\"506.336\" y2=\"254.127\" stroke-linecap=\"round\" style=\"stroke:white;stroke-width:4\"/><text x=\"519.86\" y=\"225.125\" fill=\"white\" text-anchor=\"middle\" style=\"font-size:12px;font-family:'Arial';\">9</text><text x=\"548.862\" y=\"248.649\" fill=\"white\" text-anchor=\"middle\" style=\"font-size:12px;font-family:'Arial';\">14</text><text x=\"506.336\" y=\"264.127\" fill=\"white\" text-anchor=\"middle\" style=\"font-size:12px;font-family:'Arial';\">13</text><text x=\"436.296\" y=\"239.86\" fill=\"white\" text-anchor=\"middle\" style=\"font-size:12px;font-family:'Arial';\">11</text><line x1=\"329.289\" y1=\"190.711\" x2=\"363.704\" y2=\"229.86\" stroke-linecap=\"round\" style=\"stroke:white;stroke-width:4\"/><line x1=\"329.289\" y1=\"190.711\" x2=\"280.14\" y2=\"215.125\" stroke-linecap=\"round\" style=\"stroke:white;stroke-width:4\"/><text x=\"329.289\" y=\"180.711\" fill=\"white\" text-anchor=\"middle\" style=\"font-size:12px;font-family:'Arial';\">4</text><text x=\"363.704\" y=\"239.86\" fill=\"white\" text-anchor=\"middle\" style=\"font-size:12px;font-family:'Arial';\">5</text><line x1=\"280.14\" y1=\"235.125\" x2=\"293.664\" y2=\"254.127\" stroke-linecap=\"round\" style=\"stroke:white;stroke-width:4\"/><line x1=\"280.14\" y1=\"235.125\" x2=\"251.138\" y2=\"238.649\" stroke-linecap=\"round\" style=\"stroke:white;stroke-width:4\"/><text x=\"280.14\" y=\"225.125\" fill=\"white\" text-anchor=\"middle\" style=\"font-size:12px;font-family:'Arial';\">8</text><text x=\"293.664\" y=\"264.127\" fill=\"white\" text-anchor=\"middle\" style=\"font-size:12px;font-family:'Arial';\">12</text><text x=\"251.138\" y=\"248.649\" fill=\"white\" text-anchor=\"middle\" style=\"font-size:12px;font-family:'Arial';\">10</text>\n",
              "        <g visibility=hidden transform=\"rotate(360,251.138,248.649) translate(233.138, 230.649)\">\n",
              "<path style=\" stroke:none;fill-rule:evenodd;fill:white;fill-opacity:1;\" d=\"M 18.214844 0.632812 C 16.109375 1.800781 15.011719 4.074219 15.074219 7.132812 L 15.085938 7.652344 L 14.785156 7.496094 C 13.476562 6.824219 11.957031 6.671875 10.40625 7.066406 C 8.46875 7.550781 6.515625 9.15625 4.394531 11.992188 C 3.0625 13.777344 2.679688 14.636719 3.042969 15.027344 L 3.15625 15.152344 L 3.519531 15.152344 C 4.238281 15.152344 4.828125 14.886719 8.1875 13.039062 C 9.386719 12.378906 10.371094 11.839844 10.378906 11.839844 C 10.386719 11.839844 10.355469 11.929688 10.304688 12.035156 C 9.832031 13.09375 9.257812 14.820312 8.96875 16.078125 C 7.914062 20.652344 8.617188 24.53125 11.070312 27.660156 C 11.351562 28.015625 11.363281 27.914062 10.972656 28.382812 C 8.925781 30.84375 7.945312 33.28125 8.238281 35.1875 C 8.289062 35.527344 8.28125 35.523438 8.917969 35.523438 C 10.941406 35.523438 13.074219 34.207031 15.136719 31.6875 C 15.359375 31.417969 15.328125 31.425781 15.5625 31.574219 C 16.292969 32.042969 18.023438 32.964844 18.175781 32.964844 C 18.335938 32.964844 19.941406 32.210938 20.828125 31.71875 C 20.996094 31.625 21.136719 31.554688 21.136719 31.558594 C 21.203125 31.664062 21.898438 32.414062 22.222656 32.730469 C 23.835938 34.300781 25.5625 35.132812 27.582031 35.300781 C 27.90625 35.328125 27.9375 35.308594 28.007812 34.984375 C 28.382812 33.242188 27.625 30.925781 25.863281 28.425781 L 25.542969 27.96875 L 25.699219 27.785156 C 28.945312 23.960938 29.132812 18.699219 26.257812 11.96875 L 26.207031 11.84375 L 27.945312 12.703125 C 31.53125 14.476562 32.316406 14.800781 33.03125 14.800781 C 33.976562 14.800781 33.78125 13.9375 32.472656 12.292969 C 28.519531 7.355469 25.394531 5.925781 21.921875 7.472656 L 21.558594 7.636719 L 21.578125 7.542969 C 21.699219 6.992188 21.761719 5.742188 21.699219 5.164062 C 21.496094 3.296875 20.664062 1.964844 19.003906 0.855469 C 18.480469 0.503906 18.457031 0.5 18.214844 0.632812\"/>\n",
              "</g>\n",
              "      </svg>\n",
              "    "
            ]
          },
          "metadata": {}
        }
      ],
      "source": [
        "# Set up the t graphics window\n",
        "t.initializeTurtle()\n",
        "t.hideturtle()\n",
        "t.penup()\n",
        "t.goto(400,25)\n",
        "t.write(\"Tree D\")\n",
        "t.penup()\n",
        "\n",
        "\n",
        "# Initial position and parameters\n",
        "x = 400\n",
        "y= 100\n",
        "angle = 45\n",
        "depth = 3\n",
        "branch_len = 25\n",
        "\n",
        "# Define the tree structure\n",
        "tree_structure =D\n",
        "\n",
        "# Draw the tree\n",
        "draw_tree(x, y, angle, height(tree_structure)+1, branch_len, tree_structure)"
      ]
    },
    {
      "cell_type": "code",
      "execution_count": null,
      "metadata": {
        "colab": {
          "base_uri": "https://localhost:8080/",
          "height": 521
        },
        "id": "HpbR7Msm3wj2",
        "outputId": "736b65d0-aa82-4032-c91f-e4f13a2212c4"
      },
      "outputs": [
        {
          "output_type": "display_data",
          "data": {
            "text/plain": [
              "<IPython.core.display.HTML object>"
            ],
            "text/html": [
              "\n",
              "      <svg width=\"800\" height=\"500\">\n",
              "        <rect width=\"100%\" height=\"100%\" fill=\"black\"/>\n",
              "        <text x=\"400\" y=\"25\" fill=\"white\" text-anchor=\"start\" style=\"font-size:12px;font-family:'Arial';\">Tree G</text><line x1=\"400\" y1=\"110\" x2=\"506.066\" y2=\"206.066\" stroke-linecap=\"round\" style=\"stroke:white;stroke-width:4\"/><line x1=\"400\" y1=\"110\" x2=\"293.934\" y2=\"206.066\" stroke-linecap=\"round\" style=\"stroke:white;stroke-width:4\"/><text x=\"400\" y=\"100\" fill=\"white\" text-anchor=\"middle\" style=\"font-size:12px;font-family:'Arial';\">2</text><line x1=\"506.066\" y1=\"226.066\" x2=\"587.981\" y2=\"273.424\" stroke-linecap=\"round\" style=\"stroke:white;stroke-width:4\"/><line x1=\"506.066\" y1=\"226.066\" x2=\"448.708\" y2=\"297.981\" stroke-linecap=\"round\" style=\"stroke:white;stroke-width:4\"/><text x=\"506.066\" y=\"216.066\" fill=\"white\" text-anchor=\"middle\" style=\"font-size:12px;font-family:'Arial';\">7</text><line x1=\"587.981\" y1=\"293.424\" x2=\"645.985\" y2=\"310.471\" stroke-linecap=\"round\" style=\"stroke:white;stroke-width:4\"/><line x1=\"587.981\" y1=\"293.424\" x2=\"560.934\" y2=\"341.427\" stroke-linecap=\"round\" style=\"stroke:white;stroke-width:4\"/><text x=\"587.981\" y=\"283.424\" fill=\"white\" text-anchor=\"middle\" style=\"font-size:12px;font-family:'Arial';\">9</text><line x1=\"645.985\" y1=\"330.471\" x2=\"683.076\" y2=\"330.41\" stroke-linecap=\"round\" style=\"stroke:white;stroke-width:4\"/><line x1=\"645.985\" y1=\"330.471\" x2=\"636.046\" y2=\"357.563\" stroke-linecap=\"round\" style=\"stroke:white;stroke-width:4\"/><text x=\"645.985\" y=\"320.471\" fill=\"white\" text-anchor=\"middle\" style=\"font-size:12px;font-family:'Arial';\">14</text><line x1=\"683.076\" y1=\"340.41\" x2=\"681.292\" y2=\"360.812\" stroke-linecap=\"round\" style=\"stroke:white;stroke-width:4\"/><text x=\"683.076\" y=\"340.41\" fill=\"white\" text-anchor=\"middle\" style=\"font-size:12px;font-family:'Arial';\">16</text><text x=\"681.292\" y=\"370.812\" fill=\"white\" text-anchor=\"middle\" style=\"font-size:12px;font-family:'Arial';\">17</text><text x=\"636.046\" y=\"367.563\" fill=\"white\" text-anchor=\"middle\" style=\"font-size:12px;font-family:'Arial';\">15</text><text x=\"560.934\" y=\"351.427\" fill=\"white\" text-anchor=\"middle\" style=\"font-size:12px;font-family:'Arial';\">13</text><text x=\"448.708\" y=\"307.981\" fill=\"white\" text-anchor=\"middle\" style=\"font-size:12px;font-family:'Arial';\">11</text><line x1=\"293.934\" y1=\"226.066\" x2=\"351.292\" y2=\"297.981\" stroke-linecap=\"round\" style=\"stroke:white;stroke-width:4\"/><line x1=\"293.934\" y1=\"226.066\" x2=\"212.019\" y2=\"273.424\" stroke-linecap=\"round\" style=\"stroke:white;stroke-width:4\"/><text x=\"293.934\" y=\"216.066\" fill=\"white\" text-anchor=\"middle\" style=\"font-size:12px;font-family:'Arial';\">4</text><text x=\"351.292\" y=\"307.981\" fill=\"white\" text-anchor=\"middle\" style=\"font-size:12px;font-family:'Arial';\">5</text><line x1=\"212.019\" y1=\"293.424\" x2=\"239.066\" y2=\"341.427\" stroke-linecap=\"round\" style=\"stroke:white;stroke-width:4\"/><line x1=\"212.019\" y1=\"293.424\" x2=\"154.015\" y2=\"310.471\" stroke-linecap=\"round\" style=\"stroke:white;stroke-width:4\"/><text x=\"212.019\" y=\"283.424\" fill=\"white\" text-anchor=\"middle\" style=\"font-size:12px;font-family:'Arial';\">8</text><text x=\"239.066\" y=\"351.427\" fill=\"white\" text-anchor=\"middle\" style=\"font-size:12px;font-family:'Arial';\">12</text><text x=\"154.015\" y=\"320.471\" fill=\"white\" text-anchor=\"middle\" style=\"font-size:12px;font-family:'Arial';\">10</text>\n",
              "        <g visibility=hidden transform=\"rotate(360,154.015,320.471) translate(136.015, 302.471)\">\n",
              "<path style=\" stroke:none;fill-rule:evenodd;fill:white;fill-opacity:1;\" d=\"M 18.214844 0.632812 C 16.109375 1.800781 15.011719 4.074219 15.074219 7.132812 L 15.085938 7.652344 L 14.785156 7.496094 C 13.476562 6.824219 11.957031 6.671875 10.40625 7.066406 C 8.46875 7.550781 6.515625 9.15625 4.394531 11.992188 C 3.0625 13.777344 2.679688 14.636719 3.042969 15.027344 L 3.15625 15.152344 L 3.519531 15.152344 C 4.238281 15.152344 4.828125 14.886719 8.1875 13.039062 C 9.386719 12.378906 10.371094 11.839844 10.378906 11.839844 C 10.386719 11.839844 10.355469 11.929688 10.304688 12.035156 C 9.832031 13.09375 9.257812 14.820312 8.96875 16.078125 C 7.914062 20.652344 8.617188 24.53125 11.070312 27.660156 C 11.351562 28.015625 11.363281 27.914062 10.972656 28.382812 C 8.925781 30.84375 7.945312 33.28125 8.238281 35.1875 C 8.289062 35.527344 8.28125 35.523438 8.917969 35.523438 C 10.941406 35.523438 13.074219 34.207031 15.136719 31.6875 C 15.359375 31.417969 15.328125 31.425781 15.5625 31.574219 C 16.292969 32.042969 18.023438 32.964844 18.175781 32.964844 C 18.335938 32.964844 19.941406 32.210938 20.828125 31.71875 C 20.996094 31.625 21.136719 31.554688 21.136719 31.558594 C 21.203125 31.664062 21.898438 32.414062 22.222656 32.730469 C 23.835938 34.300781 25.5625 35.132812 27.582031 35.300781 C 27.90625 35.328125 27.9375 35.308594 28.007812 34.984375 C 28.382812 33.242188 27.625 30.925781 25.863281 28.425781 L 25.542969 27.96875 L 25.699219 27.785156 C 28.945312 23.960938 29.132812 18.699219 26.257812 11.96875 L 26.207031 11.84375 L 27.945312 12.703125 C 31.53125 14.476562 32.316406 14.800781 33.03125 14.800781 C 33.976562 14.800781 33.78125 13.9375 32.472656 12.292969 C 28.519531 7.355469 25.394531 5.925781 21.921875 7.472656 L 21.558594 7.636719 L 21.578125 7.542969 C 21.699219 6.992188 21.761719 5.742188 21.699219 5.164062 C 21.496094 3.296875 20.664062 1.964844 19.003906 0.855469 C 18.480469 0.503906 18.457031 0.5 18.214844 0.632812\"/>\n",
              "</g>\n",
              "      </svg>\n",
              "    "
            ]
          },
          "metadata": {}
        }
      ],
      "source": [
        "# Set up the t graphics window\n",
        "t.initializeTurtle()\n",
        "t.hideturtle()\n",
        "t.penup()\n",
        "t.goto(400,25)\n",
        "t.write(\"Tree G\")\n",
        "t.penup()\n",
        "\n",
        "# Initial position and parameters\n",
        "x = 400\n",
        "y= 100\n",
        "angle = 45\n",
        "depth = 3\n",
        "branch_len = 25\n",
        "\n",
        "# Define the tree structure\n",
        "tree_structure =G\n",
        "\n",
        "# Draw the tree\n",
        "draw_tree(x, y, angle, height(tree_structure)+1, branch_len, tree_structure)\n"
      ]
    },
    {
      "cell_type": "code",
      "execution_count": null,
      "metadata": {
        "colab": {
          "base_uri": "https://localhost:8080/"
        },
        "id": "zqNsjO8DgTXE",
        "outputId": "291a3e94-a800-4092-f529-167968603539"
      },
      "outputs": [
        {
          "output_type": "stream",
          "name": "stdout",
          "text": [
            "The height DD is 4\n",
            "The height EE is 5\n",
            "The height FF is 6\n",
            "The height GG is 7\n",
            "The height HH is 8\n"
          ]
        }
      ],
      "source": [
        "CC=add_bst2(A,13)\n",
        "DD=add_bst2(CC,14)\n",
        "EE=add_bst2(DD,15)\n",
        "FF=add_bst2(EE,16)\n",
        "GG=add_bst2(FF,17)\n",
        "HH=add_bst2(GG,18)\n",
        "\n",
        "print(\"The height DD is \"+str(height(DD)))\n",
        "print(\"The height EE is \"+str(height(EE)))\n",
        "print(\"The height FF is \"+str(height(FF)))\n",
        "print(\"The height GG is \"+str(height(GG)))\n",
        "print(\"The height HH is \"+str(height(HH)))\n"
      ]
    },
    {
      "cell_type": "code",
      "execution_count": null,
      "metadata": {
        "colab": {
          "base_uri": "https://localhost:8080/",
          "height": 521
        },
        "id": "cBCiYnTM4OKq",
        "outputId": "dbd5478c-f874-4c43-f53f-7b6bfe6d3ea5"
      },
      "outputs": [
        {
          "output_type": "display_data",
          "data": {
            "text/plain": [
              "<IPython.core.display.HTML object>"
            ],
            "text/html": [
              "\n",
              "      <svg width=\"800\" height=\"500\">\n",
              "        <rect width=\"100%\" height=\"100%\" fill=\"black\"/>\n",
              "        <text x=\"400\" y=\"25\" fill=\"white\" text-anchor=\"start\" style=\"font-size:12px;font-family:'Arial';\">Tree DD</text><line x1=\"400\" y1=\"110\" x2=\"488.388\" y2=\"188.388\" stroke-linecap=\"round\" style=\"stroke:white;stroke-width:4\"/><line x1=\"400\" y1=\"110\" x2=\"311.612\" y2=\"188.388\" stroke-linecap=\"round\" style=\"stroke:white;stroke-width:4\"/><text x=\"400\" y=\"100\" fill=\"white\" text-anchor=\"middle\" style=\"font-size:12px;font-family:'Arial';\">2</text><line x1=\"488.388\" y1=\"208.388\" x2=\"553.921\" y2=\"244.274\" stroke-linecap=\"round\" style=\"stroke:white;stroke-width:4\"/><line x1=\"488.388\" y1=\"208.388\" x2=\"442.502\" y2=\"263.921\" stroke-linecap=\"round\" style=\"stroke:white;stroke-width:4\"/><text x=\"488.388\" y=\"198.388\" fill=\"white\" text-anchor=\"middle\" style=\"font-size:12px;font-family:'Arial';\">7</text><line x1=\"553.921\" y1=\"264.274\" x2=\"597.423\" y2=\"274.56\" stroke-linecap=\"round\" style=\"stroke:white;stroke-width:4\"/><text x=\"553.921\" y=\"254.274\" fill=\"white\" text-anchor=\"middle\" style=\"font-size:12px;font-family:'Arial';\">9</text><line x1=\"597.423\" y1=\"294.56\" x2=\"622.151\" y2=\"291.186\" stroke-linecap=\"round\" style=\"stroke:white;stroke-width:4\"/><text x=\"597.423\" y=\"284.56\" fill=\"white\" text-anchor=\"middle\" style=\"font-size:12px;font-family:'Arial';\">13</text><text x=\"622.151\" y=\"301.186\" fill=\"white\" text-anchor=\"middle\" style=\"font-size:12px;font-family:'Arial';\">14</text><text x=\"442.502\" y=\"273.921\" fill=\"white\" text-anchor=\"middle\" style=\"font-size:12px;font-family:'Arial';\">11</text><line x1=\"311.612\" y1=\"208.388\" x2=\"357.498\" y2=\"263.921\" stroke-linecap=\"round\" style=\"stroke:white;stroke-width:4\"/><line x1=\"311.612\" y1=\"208.388\" x2=\"246.079\" y2=\"244.274\" stroke-linecap=\"round\" style=\"stroke:white;stroke-width:4\"/><text x=\"311.612\" y=\"198.388\" fill=\"white\" text-anchor=\"middle\" style=\"font-size:12px;font-family:'Arial';\">4</text><text x=\"357.498\" y=\"273.921\" fill=\"white\" text-anchor=\"middle\" style=\"font-size:12px;font-family:'Arial';\">5</text><line x1=\"246.079\" y1=\"264.274\" x2=\"266.365\" y2=\"297.777\" stroke-linecap=\"round\" style=\"stroke:white;stroke-width:4\"/><line x1=\"246.079\" y1=\"264.274\" x2=\"202.577\" y2=\"274.56\" stroke-linecap=\"round\" style=\"stroke:white;stroke-width:4\"/><text x=\"246.079\" y=\"254.274\" fill=\"white\" text-anchor=\"middle\" style=\"font-size:12px;font-family:'Arial';\">8</text><text x=\"266.365\" y=\"307.777\" fill=\"white\" text-anchor=\"middle\" style=\"font-size:12px;font-family:'Arial';\">12</text><text x=\"202.577\" y=\"284.56\" fill=\"white\" text-anchor=\"middle\" style=\"font-size:12px;font-family:'Arial';\">10</text>\n",
              "        <g visibility=hidden transform=\"rotate(360,202.577,284.56) translate(184.577, 266.56)\">\n",
              "<path style=\" stroke:none;fill-rule:evenodd;fill:white;fill-opacity:1;\" d=\"M 18.214844 0.632812 C 16.109375 1.800781 15.011719 4.074219 15.074219 7.132812 L 15.085938 7.652344 L 14.785156 7.496094 C 13.476562 6.824219 11.957031 6.671875 10.40625 7.066406 C 8.46875 7.550781 6.515625 9.15625 4.394531 11.992188 C 3.0625 13.777344 2.679688 14.636719 3.042969 15.027344 L 3.15625 15.152344 L 3.519531 15.152344 C 4.238281 15.152344 4.828125 14.886719 8.1875 13.039062 C 9.386719 12.378906 10.371094 11.839844 10.378906 11.839844 C 10.386719 11.839844 10.355469 11.929688 10.304688 12.035156 C 9.832031 13.09375 9.257812 14.820312 8.96875 16.078125 C 7.914062 20.652344 8.617188 24.53125 11.070312 27.660156 C 11.351562 28.015625 11.363281 27.914062 10.972656 28.382812 C 8.925781 30.84375 7.945312 33.28125 8.238281 35.1875 C 8.289062 35.527344 8.28125 35.523438 8.917969 35.523438 C 10.941406 35.523438 13.074219 34.207031 15.136719 31.6875 C 15.359375 31.417969 15.328125 31.425781 15.5625 31.574219 C 16.292969 32.042969 18.023438 32.964844 18.175781 32.964844 C 18.335938 32.964844 19.941406 32.210938 20.828125 31.71875 C 20.996094 31.625 21.136719 31.554688 21.136719 31.558594 C 21.203125 31.664062 21.898438 32.414062 22.222656 32.730469 C 23.835938 34.300781 25.5625 35.132812 27.582031 35.300781 C 27.90625 35.328125 27.9375 35.308594 28.007812 34.984375 C 28.382812 33.242188 27.625 30.925781 25.863281 28.425781 L 25.542969 27.96875 L 25.699219 27.785156 C 28.945312 23.960938 29.132812 18.699219 26.257812 11.96875 L 26.207031 11.84375 L 27.945312 12.703125 C 31.53125 14.476562 32.316406 14.800781 33.03125 14.800781 C 33.976562 14.800781 33.78125 13.9375 32.472656 12.292969 C 28.519531 7.355469 25.394531 5.925781 21.921875 7.472656 L 21.558594 7.636719 L 21.578125 7.542969 C 21.699219 6.992188 21.761719 5.742188 21.699219 5.164062 C 21.496094 3.296875 20.664062 1.964844 19.003906 0.855469 C 18.480469 0.503906 18.457031 0.5 18.214844 0.632812\"/>\n",
              "</g>\n",
              "      </svg>\n",
              "    "
            ]
          },
          "metadata": {}
        }
      ],
      "source": [
        "# Set up the t graphics window\n",
        "t.initializeTurtle()\n",
        "t.hideturtle()\n",
        "t.penup()\n",
        "t.goto(400,25)\n",
        "t.write(\"Tree DD\")\n",
        "t.penup()\n",
        "\n",
        "# Initial position and parameters\n",
        "x = 400\n",
        "y= 100\n",
        "angle = 45\n",
        "depth = 3\n",
        "branch_len = 25\n",
        "\n",
        "# Define the tree structure\n",
        "tree_structure =DD\n",
        "\n",
        "# Draw the tree\n",
        "draw_tree(x, y, angle, height(tree_structure)+1, branch_len, tree_structure)\n"
      ]
    },
    {
      "cell_type": "code",
      "execution_count": null,
      "metadata": {
        "colab": {
          "base_uri": "https://localhost:8080/",
          "height": 521
        },
        "id": "RQFjPEpd5xLx",
        "outputId": "b1412961-03fb-4793-f8be-683749c6055b"
      },
      "outputs": [
        {
          "output_type": "display_data",
          "data": {
            "text/plain": [
              "<IPython.core.display.HTML object>"
            ],
            "text/html": [
              "\n",
              "      <svg width=\"800\" height=\"500\">\n",
              "        <rect width=\"100%\" height=\"100%\" fill=\"black\"/>\n",
              "        <text x=\"400\" y=\"25\" fill=\"white\" text-anchor=\"start\" style=\"font-size:12px;font-family:'Arial';\">Tree HH</text><line x1=\"320\" y1=\"110\" x2=\"387.5\" y2=\"216.913\" stroke-linecap=\"round\" style=\"stroke:white;stroke-width:4\"/><line x1=\"320\" y1=\"110\" x2=\"203.087\" y2=\"167.5\" stroke-linecap=\"round\" style=\"stroke:white;stroke-width:4\"/><text x=\"320\" y=\"100\" fill=\"white\" text-anchor=\"middle\" style=\"font-size:12px;font-family:'Arial';\">2</text><line x1=\"387.5\" y1=\"236.913\" x2=\"449.208\" y2=\"300.454\" stroke-linecap=\"round\" style=\"stroke:white;stroke-width:4\"/><line x1=\"387.5\" y1=\"236.913\" x2=\"313.96\" y2=\"288.621\" stroke-linecap=\"round\" style=\"stroke:white;stroke-width:4\"/><text x=\"387.5\" y=\"226.913\" fill=\"white\" text-anchor=\"middle\" style=\"font-size:12px;font-family:'Arial';\">7</text><line x1=\"449.208\" y1=\"320.454\" x2=\"500.686\" y2=\"353.649\" stroke-linecap=\"round\" style=\"stroke:white;stroke-width:4\"/><text x=\"449.208\" y=\"310.454\" fill=\"white\" text-anchor=\"middle\" style=\"font-size:12px;font-family:'Arial';\">9</text><line x1=\"500.686\" y1=\"373.649\" x2=\"540.592\" y2=\"386.689\" stroke-linecap=\"round\" style=\"stroke:white;stroke-width:4\"/><text x=\"500.686\" y=\"363.649\" fill=\"white\" text-anchor=\"middle\" style=\"font-size:12px;font-family:'Arial';\">13</text><line x1=\"540.592\" y1=\"406.689\" x2=\"569.46\" y2=\"407.196\" stroke-linecap=\"round\" style=\"stroke:white;stroke-width:4\"/><text x=\"540.592\" y=\"396.689\" fill=\"white\" text-anchor=\"middle\" style=\"font-size:12px;font-family:'Arial';\">14</text><line x1=\"569.46\" y1=\"427.196\" x2=\"588.822\" y2=\"420.61\" stroke-linecap=\"round\" style=\"stroke:white;stroke-width:4\"/><text x=\"569.46\" y=\"417.196\" fill=\"white\" text-anchor=\"middle\" style=\"font-size:12px;font-family:'Arial';\">15</text><line x1=\"588.822\" y1=\"440.61\" x2=\"600.618\" y2=\"430.61\" stroke-linecap=\"round\" style=\"stroke:white;stroke-width:4\"/><text x=\"588.822\" y=\"430.61\" fill=\"white\" text-anchor=\"middle\" style=\"font-size:12px;font-family:'Arial';\">16</text><line x1=\"600.618\" y1=\"450.61\" x2=\"606.814\" y2=\"439.517\" stroke-linecap=\"round\" style=\"stroke:white;stroke-width:4\"/><text x=\"600.618\" y=\"440.61\" fill=\"white\" text-anchor=\"middle\" style=\"font-size:12px;font-family:'Arial';\">17</text><text x=\"606.814\" y=\"449.517\" fill=\"white\" text-anchor=\"middle\" style=\"font-size:12px;font-family:'Arial';\">18</text><text x=\"313.96\" y=\"298.621\" fill=\"white\" text-anchor=\"middle\" style=\"font-size:12px;font-family:'Arial';\">11</text><line x1=\"203.087\" y1=\"187.5\" x2=\"235.921\" y2=\"267.71\" stroke-linecap=\"round\" style=\"stroke:white;stroke-width:4\"/><line x1=\"203.087\" y1=\"187.5\" x2=\"112.876\" y2=\"210.334\" stroke-linecap=\"round\" style=\"stroke:white;stroke-width:4\"/><text x=\"203.087\" y=\"177.5\" fill=\"white\" text-anchor=\"middle\" style=\"font-size:12px;font-family:'Arial';\">4</text><text x=\"235.921\" y=\"277.71\" fill=\"white\" text-anchor=\"middle\" style=\"font-size:12px;font-family:'Arial';\">5</text><line x1=\"112.876\" y1=\"230.334\" x2=\"124.545\" y2=\"286.513\" stroke-linecap=\"round\" style=\"stroke:white;stroke-width:4\"/><line x1=\"112.876\" y1=\"230.334\" x2=\"46.697\" y2=\"232.003\" stroke-linecap=\"round\" style=\"stroke:white;stroke-width:4\"/><text x=\"112.876\" y=\"220.334\" fill=\"white\" text-anchor=\"middle\" style=\"font-size:12px;font-family:'Arial';\">8</text><text x=\"124.545\" y=\"296.513\" fill=\"white\" text-anchor=\"middle\" style=\"font-size:12px;font-family:'Arial';\">12</text><text x=\"46.697\" y=\"242.003\" fill=\"white\" text-anchor=\"middle\" style=\"font-size:12px;font-family:'Arial';\">10</text>\n",
              "        <g visibility=hidden transform=\"rotate(360,46.697,242.003) translate(28.697000000000003, 224.003)\">\n",
              "<path style=\" stroke:none;fill-rule:evenodd;fill:white;fill-opacity:1;\" d=\"M 18.214844 0.632812 C 16.109375 1.800781 15.011719 4.074219 15.074219 7.132812 L 15.085938 7.652344 L 14.785156 7.496094 C 13.476562 6.824219 11.957031 6.671875 10.40625 7.066406 C 8.46875 7.550781 6.515625 9.15625 4.394531 11.992188 C 3.0625 13.777344 2.679688 14.636719 3.042969 15.027344 L 3.15625 15.152344 L 3.519531 15.152344 C 4.238281 15.152344 4.828125 14.886719 8.1875 13.039062 C 9.386719 12.378906 10.371094 11.839844 10.378906 11.839844 C 10.386719 11.839844 10.355469 11.929688 10.304688 12.035156 C 9.832031 13.09375 9.257812 14.820312 8.96875 16.078125 C 7.914062 20.652344 8.617188 24.53125 11.070312 27.660156 C 11.351562 28.015625 11.363281 27.914062 10.972656 28.382812 C 8.925781 30.84375 7.945312 33.28125 8.238281 35.1875 C 8.289062 35.527344 8.28125 35.523438 8.917969 35.523438 C 10.941406 35.523438 13.074219 34.207031 15.136719 31.6875 C 15.359375 31.417969 15.328125 31.425781 15.5625 31.574219 C 16.292969 32.042969 18.023438 32.964844 18.175781 32.964844 C 18.335938 32.964844 19.941406 32.210938 20.828125 31.71875 C 20.996094 31.625 21.136719 31.554688 21.136719 31.558594 C 21.203125 31.664062 21.898438 32.414062 22.222656 32.730469 C 23.835938 34.300781 25.5625 35.132812 27.582031 35.300781 C 27.90625 35.328125 27.9375 35.308594 28.007812 34.984375 C 28.382812 33.242188 27.625 30.925781 25.863281 28.425781 L 25.542969 27.96875 L 25.699219 27.785156 C 28.945312 23.960938 29.132812 18.699219 26.257812 11.96875 L 26.207031 11.84375 L 27.945312 12.703125 C 31.53125 14.476562 32.316406 14.800781 33.03125 14.800781 C 33.976562 14.800781 33.78125 13.9375 32.472656 12.292969 C 28.519531 7.355469 25.394531 5.925781 21.921875 7.472656 L 21.558594 7.636719 L 21.578125 7.542969 C 21.699219 6.992188 21.761719 5.742188 21.699219 5.164062 C 21.496094 3.296875 20.664062 1.964844 19.003906 0.855469 C 18.480469 0.503906 18.457031 0.5 18.214844 0.632812\"/>\n",
              "</g>\n",
              "      </svg>\n",
              "    "
            ]
          },
          "metadata": {}
        }
      ],
      "source": [
        "# Set up the t graphics window\n",
        "t.initializeTurtle()\n",
        "t.hideturtle()\n",
        "t.penup()\n",
        "t.goto(400,25)\n",
        "t.write(\"Tree HH\")\n",
        "t.penup()\n",
        "\n",
        "# Initial position and parameters\n",
        "x = 320\n",
        "y= 100\n",
        "angle = 60\n",
        "depth = 3\n",
        "branch_len = 15\n",
        "\n",
        "# Define the tree structure\n",
        "tree_structure =HH\n",
        "\n",
        "# Draw the tree\n",
        "draw_tree(x, y, angle, height(tree_structure)+1, branch_len, tree_structure)\n"
      ]
    },
    {
      "cell_type": "markdown",
      "metadata": {
        "id": "ZF3nu2Qs7wEQ"
      },
      "source": [
        "Example of random with add_bst"
      ]
    },
    {
      "cell_type": "code",
      "execution_count": null,
      "metadata": {
        "id": "5ICUE0kh7uAt"
      },
      "outputs": [],
      "source": [
        "n=10\n",
        "elements_list = random_perm(n)\n",
        "RT = None\n",
        "for j in range(n):\n",
        "  RT = add_bst(RT,elements_list[j])"
      ]
    },
    {
      "cell_type": "code",
      "execution_count": null,
      "metadata": {
        "colab": {
          "base_uri": "https://localhost:8080/",
          "height": 521
        },
        "id": "juhjTNIZ8ljt",
        "outputId": "2a130c7d-92ff-478c-8ef2-166736d55ef8"
      },
      "outputs": [
        {
          "output_type": "display_data",
          "data": {
            "text/plain": [
              "<IPython.core.display.HTML object>"
            ],
            "text/html": [
              "\n",
              "      <svg width=\"800\" height=\"500\">\n",
              "        <rect width=\"100%\" height=\"100%\" fill=\"black\"/>\n",
              "        <text x=\"400\" y=\"25\" fill=\"white\" text-anchor=\"start\" style=\"font-size:12px;font-family:'Arial';\">Tree RT</text><line x1=\"320\" y1=\"110\" x2=\"395.0\" y2=\"229.904\" stroke-linecap=\"round\" style=\"stroke:white;stroke-width:4\"/><line x1=\"320\" y1=\"110\" x2=\"190.096\" y2=\"175.0\" stroke-linecap=\"round\" style=\"stroke:white;stroke-width:4\"/><text x=\"320\" y=\"100\" fill=\"white\" text-anchor=\"middle\" style=\"font-size:12px;font-family:'Arial';\">0</text><line x1=\"395.0\" y1=\"249.904\" x2=\"456.708\" y2=\"313.444\" stroke-linecap=\"round\" style=\"stroke:white;stroke-width:4\"/><line x1=\"395.0\" y1=\"249.904\" x2=\"321.46\" y2=\"301.611\" stroke-linecap=\"round\" style=\"stroke:white;stroke-width:4\"/><text x=\"395.0\" y=\"239.904\" fill=\"white\" text-anchor=\"middle\" style=\"font-size:12px;font-family:'Arial';\">1</text><line x1=\"456.708\" y1=\"333.444\" x2=\"500.832\" y2=\"360.469\" stroke-linecap=\"round\" style=\"stroke:white;stroke-width:4\"/><line x1=\"456.708\" y1=\"333.444\" x2=\"419.683\" y2=\"367.568\" stroke-linecap=\"round\" style=\"stroke:white;stroke-width:4\"/><text x=\"456.708\" y=\"323.444\" fill=\"white\" text-anchor=\"middle\" style=\"font-size:12px;font-family:'Arial';\">2</text><line x1=\"500.832\" y1=\"370.469\" x2=\"485.472\" y2=\"397.073\" stroke-linecap=\"round\" style=\"stroke:white;stroke-width:4\"/><text x=\"500.832\" y=\"370.469\" fill=\"white\" text-anchor=\"middle\" style=\"font-size:12px;font-family:'Arial';\">6</text><text x=\"485.472\" y=\"407.073\" fill=\"white\" text-anchor=\"middle\" style=\"font-size:12px;font-family:'Arial';\">9</text><line x1=\"419.683\" y1=\"387.568\" x2=\"439.429\" y2=\"401.101\" stroke-linecap=\"round\" style=\"stroke:white;stroke-width:4\"/><text x=\"419.683\" y=\"377.568\" fill=\"white\" text-anchor=\"middle\" style=\"font-size:12px;font-family:'Arial';\">4</text><text x=\"439.429\" y=\"411.101\" fill=\"white\" text-anchor=\"middle\" style=\"font-size:12px;font-family:'Arial';\">7</text><line x1=\"321.46\" y1=\"321.611\" x2=\"350.26\" y2=\"361.494\" stroke-linecap=\"round\" style=\"stroke:white;stroke-width:4\"/><text x=\"321.46\" y=\"311.611\" fill=\"white\" text-anchor=\"middle\" style=\"font-size:12px;font-family:'Arial';\">5</text><text x=\"350.26\" y=\"371.494\" fill=\"white\" text-anchor=\"middle\" style=\"font-size:12px;font-family:'Arial';\">8</text><text x=\"190.096\" y=\"185.0\" fill=\"white\" text-anchor=\"middle\" style=\"font-size:12px;font-family:'Arial';\">3</text>\n",
              "        <g visibility=hidden transform=\"rotate(360,190.096,185.0) translate(172.096, 167.0)\">\n",
              "<path style=\" stroke:none;fill-rule:evenodd;fill:white;fill-opacity:1;\" d=\"M 18.214844 0.632812 C 16.109375 1.800781 15.011719 4.074219 15.074219 7.132812 L 15.085938 7.652344 L 14.785156 7.496094 C 13.476562 6.824219 11.957031 6.671875 10.40625 7.066406 C 8.46875 7.550781 6.515625 9.15625 4.394531 11.992188 C 3.0625 13.777344 2.679688 14.636719 3.042969 15.027344 L 3.15625 15.152344 L 3.519531 15.152344 C 4.238281 15.152344 4.828125 14.886719 8.1875 13.039062 C 9.386719 12.378906 10.371094 11.839844 10.378906 11.839844 C 10.386719 11.839844 10.355469 11.929688 10.304688 12.035156 C 9.832031 13.09375 9.257812 14.820312 8.96875 16.078125 C 7.914062 20.652344 8.617188 24.53125 11.070312 27.660156 C 11.351562 28.015625 11.363281 27.914062 10.972656 28.382812 C 8.925781 30.84375 7.945312 33.28125 8.238281 35.1875 C 8.289062 35.527344 8.28125 35.523438 8.917969 35.523438 C 10.941406 35.523438 13.074219 34.207031 15.136719 31.6875 C 15.359375 31.417969 15.328125 31.425781 15.5625 31.574219 C 16.292969 32.042969 18.023438 32.964844 18.175781 32.964844 C 18.335938 32.964844 19.941406 32.210938 20.828125 31.71875 C 20.996094 31.625 21.136719 31.554688 21.136719 31.558594 C 21.203125 31.664062 21.898438 32.414062 22.222656 32.730469 C 23.835938 34.300781 25.5625 35.132812 27.582031 35.300781 C 27.90625 35.328125 27.9375 35.308594 28.007812 34.984375 C 28.382812 33.242188 27.625 30.925781 25.863281 28.425781 L 25.542969 27.96875 L 25.699219 27.785156 C 28.945312 23.960938 29.132812 18.699219 26.257812 11.96875 L 26.207031 11.84375 L 27.945312 12.703125 C 31.53125 14.476562 32.316406 14.800781 33.03125 14.800781 C 33.976562 14.800781 33.78125 13.9375 32.472656 12.292969 C 28.519531 7.355469 25.394531 5.925781 21.921875 7.472656 L 21.558594 7.636719 L 21.578125 7.542969 C 21.699219 6.992188 21.761719 5.742188 21.699219 5.164062 C 21.496094 3.296875 20.664062 1.964844 19.003906 0.855469 C 18.480469 0.503906 18.457031 0.5 18.214844 0.632812\"/>\n",
              "</g>\n",
              "      </svg>\n",
              "    "
            ]
          },
          "metadata": {}
        }
      ],
      "source": [
        "# Set up the t graphics window\n",
        "t.initializeTurtle()\n",
        "t.hideturtle()\n",
        "t.penup()\n",
        "t.goto(400,25)\n",
        "t.write(\"Tree RT\")\n",
        "t.penup()\n",
        "\n",
        "# Initial position and parameters\n",
        "x = 320\n",
        "y= 100\n",
        "angle = 60\n",
        "depth = 3\n",
        "branch_len = 30\n",
        "\n",
        "# Define the tree structure\n",
        "tree_structure =RT\n",
        "\n",
        "# Draw the tree\n",
        "draw_tree(x, y, angle, height(tree_structure)+1, branch_len, tree_structure)\n"
      ]
    },
    {
      "cell_type": "markdown",
      "metadata": {
        "id": "bv3ijnSG86_Z"
      },
      "source": [
        "Example of random tree with add_bst2"
      ]
    },
    {
      "cell_type": "code",
      "execution_count": null,
      "metadata": {
        "id": "EP6_eFw69KeF"
      },
      "outputs": [],
      "source": [
        "n=10\n",
        "elements_list = random_perm(n)\n",
        "RT2 = None\n",
        "for j in range(n):\n",
        "  RT2 = add_bst2(RT2,elements_list[j])"
      ]
    },
    {
      "cell_type": "code",
      "execution_count": null,
      "metadata": {
        "colab": {
          "base_uri": "https://localhost:8080/",
          "height": 521
        },
        "id": "sK_ghVCu9Brs",
        "outputId": "908a259f-4558-4216-ec41-a0d5480d62c0"
      },
      "outputs": [
        {
          "output_type": "display_data",
          "data": {
            "text/plain": [
              "<IPython.core.display.HTML object>"
            ],
            "text/html": [
              "\n",
              "      <svg width=\"800\" height=\"500\">\n",
              "        <rect width=\"100%\" height=\"100%\" fill=\"black\"/>\n",
              "        <text x=\"400\" y=\"25\" fill=\"white\" text-anchor=\"start\" style=\"font-size:12px;font-family:'Arial';\">Tree RT2</text><line x1=\"320\" y1=\"110\" x2=\"408.388\" y2=\"188.388\" stroke-linecap=\"round\" style=\"stroke:white;stroke-width:4\"/><line x1=\"320\" y1=\"110\" x2=\"231.612\" y2=\"188.388\" stroke-linecap=\"round\" style=\"stroke:white;stroke-width:4\"/><text x=\"320\" y=\"100\" fill=\"white\" text-anchor=\"middle\" style=\"font-size:12px;font-family:'Arial';\">4</text><line x1=\"408.388\" y1=\"208.388\" x2=\"473.921\" y2=\"244.274\" stroke-linecap=\"round\" style=\"stroke:white;stroke-width:4\"/><text x=\"408.388\" y=\"198.388\" fill=\"white\" text-anchor=\"middle\" style=\"font-size:12px;font-family:'Arial';\">5</text><line x1=\"473.921\" y1=\"264.274\" x2=\"517.423\" y2=\"274.56\" stroke-linecap=\"round\" style=\"stroke:white;stroke-width:4\"/><line x1=\"473.921\" y1=\"264.274\" x2=\"453.635\" y2=\"297.777\" stroke-linecap=\"round\" style=\"stroke:white;stroke-width:4\"/><text x=\"473.921\" y=\"254.274\" fill=\"white\" text-anchor=\"middle\" style=\"font-size:12px;font-family:'Arial';\">7</text><line x1=\"517.423\" y1=\"284.56\" x2=\"510.798\" y2=\"309.288\" stroke-linecap=\"round\" style=\"stroke:white;stroke-width:4\"/><text x=\"517.423\" y=\"284.56\" fill=\"white\" text-anchor=\"middle\" style=\"font-size:12px;font-family:'Arial';\">9</text><text x=\"510.798\" y=\"319.288\" fill=\"white\" text-anchor=\"middle\" style=\"font-size:12px;font-family:'Arial';\">8</text><text x=\"453.635\" y=\"307.777\" fill=\"white\" text-anchor=\"middle\" style=\"font-size:12px;font-family:'Arial';\">6</text><line x1=\"231.612\" y1=\"208.388\" x2=\"277.498\" y2=\"263.921\" stroke-linecap=\"round\" style=\"stroke:white;stroke-width:4\"/><line x1=\"231.612\" y1=\"208.388\" x2=\"166.079\" y2=\"244.274\" stroke-linecap=\"round\" style=\"stroke:white;stroke-width:4\"/><text x=\"231.612\" y=\"198.388\" fill=\"white\" text-anchor=\"middle\" style=\"font-size:12px;font-family:'Arial';\">1</text><line x1=\"277.498\" y1=\"283.921\" x2=\"311.439\" y2=\"307.862\" stroke-linecap=\"round\" style=\"stroke:white;stroke-width:4\"/><text x=\"277.498\" y=\"273.921\" fill=\"white\" text-anchor=\"middle\" style=\"font-size:12px;font-family:'Arial';\">2</text><text x=\"311.439\" y=\"317.862\" fill=\"white\" text-anchor=\"middle\" style=\"font-size:12px;font-family:'Arial';\">3</text><text x=\"166.079\" y=\"254.274\" fill=\"white\" text-anchor=\"middle\" style=\"font-size:12px;font-family:'Arial';\">0</text>\n",
              "        <g visibility=hidden transform=\"rotate(360,166.079,254.274) translate(148.079, 236.274)\">\n",
              "<path style=\" stroke:none;fill-rule:evenodd;fill:white;fill-opacity:1;\" d=\"M 18.214844 0.632812 C 16.109375 1.800781 15.011719 4.074219 15.074219 7.132812 L 15.085938 7.652344 L 14.785156 7.496094 C 13.476562 6.824219 11.957031 6.671875 10.40625 7.066406 C 8.46875 7.550781 6.515625 9.15625 4.394531 11.992188 C 3.0625 13.777344 2.679688 14.636719 3.042969 15.027344 L 3.15625 15.152344 L 3.519531 15.152344 C 4.238281 15.152344 4.828125 14.886719 8.1875 13.039062 C 9.386719 12.378906 10.371094 11.839844 10.378906 11.839844 C 10.386719 11.839844 10.355469 11.929688 10.304688 12.035156 C 9.832031 13.09375 9.257812 14.820312 8.96875 16.078125 C 7.914062 20.652344 8.617188 24.53125 11.070312 27.660156 C 11.351562 28.015625 11.363281 27.914062 10.972656 28.382812 C 8.925781 30.84375 7.945312 33.28125 8.238281 35.1875 C 8.289062 35.527344 8.28125 35.523438 8.917969 35.523438 C 10.941406 35.523438 13.074219 34.207031 15.136719 31.6875 C 15.359375 31.417969 15.328125 31.425781 15.5625 31.574219 C 16.292969 32.042969 18.023438 32.964844 18.175781 32.964844 C 18.335938 32.964844 19.941406 32.210938 20.828125 31.71875 C 20.996094 31.625 21.136719 31.554688 21.136719 31.558594 C 21.203125 31.664062 21.898438 32.414062 22.222656 32.730469 C 23.835938 34.300781 25.5625 35.132812 27.582031 35.300781 C 27.90625 35.328125 27.9375 35.308594 28.007812 34.984375 C 28.382812 33.242188 27.625 30.925781 25.863281 28.425781 L 25.542969 27.96875 L 25.699219 27.785156 C 28.945312 23.960938 29.132812 18.699219 26.257812 11.96875 L 26.207031 11.84375 L 27.945312 12.703125 C 31.53125 14.476562 32.316406 14.800781 33.03125 14.800781 C 33.976562 14.800781 33.78125 13.9375 32.472656 12.292969 C 28.519531 7.355469 25.394531 5.925781 21.921875 7.472656 L 21.558594 7.636719 L 21.578125 7.542969 C 21.699219 6.992188 21.761719 5.742188 21.699219 5.164062 C 21.496094 3.296875 20.664062 1.964844 19.003906 0.855469 C 18.480469 0.503906 18.457031 0.5 18.214844 0.632812\"/>\n",
              "</g>\n",
              "      </svg>\n",
              "    "
            ]
          },
          "metadata": {}
        }
      ],
      "source": [
        "# Set up the t graphics window\n",
        "t.initializeTurtle()\n",
        "t.hideturtle()\n",
        "t.penup()\n",
        "t.goto(400,25)\n",
        "t.write(\"Tree RT2\")\n",
        "t.penup()\n",
        "\n",
        "# Initial position and parameters\n",
        "x = 320\n",
        "y= 100\n",
        "angle = 45\n",
        "depth = 3\n",
        "branch_len = 25\n",
        "\n",
        "# Define the tree structure\n",
        "tree_structure =RT2\n",
        "\n",
        "# Draw the tree\n",
        "draw_tree(x, y, angle, height(tree_structure)+1, branch_len, tree_structure)\n"
      ]
    },
    {
      "cell_type": "markdown",
      "metadata": {
        "id": "ubvm5vBcqmFY"
      },
      "source": [
        "#Question 4\n",
        "---\n",
        "We define a function **stats(n,nbr)** that draw **nbr** times a random perpmutation of size **n**, then compute the average height of the associated BST's."
      ]
    },
    {
      "cell_type": "code",
      "execution_count": null,
      "metadata": {
        "id": "ztAwSu0xXhb2"
      },
      "outputs": [],
      "source": [
        "def stats(n,nbr,add):\n",
        "  total = 0\n",
        "  for i in range(nbr):\n",
        "    elements_list = random_perm(n)\n",
        "    B = None\n",
        "    for j in range(n):\n",
        "      B = add(B,elements_list[j])\n",
        "    #print(B)\n",
        "    total += height(B)\n",
        "  return total/nbr\n"
      ]
    },
    {
      "cell_type": "code",
      "execution_count": null,
      "metadata": {
        "colab": {
          "base_uri": "https://localhost:8080/"
        },
        "id": "2xOR3bFWUsO9",
        "outputId": "f4a7cbde-0776-41f7-bc4c-e90256bc1393"
      },
      "outputs": [
        {
          "output_type": "execute_result",
          "data": {
            "text/plain": [
              "4.2"
            ]
          },
          "metadata": {},
          "execution_count": 25
        }
      ],
      "source": [
        "stats(10,10,add_bst)"
      ]
    },
    {
      "cell_type": "code",
      "execution_count": null,
      "metadata": {
        "colab": {
          "base_uri": "https://localhost:8080/"
        },
        "id": "McRn9K3PZGkM",
        "outputId": "46b35b0b-de55-4cd5-8f6b-a6693044979f"
      },
      "outputs": [
        {
          "output_type": "execute_result",
          "data": {
            "text/plain": [
              "4.4"
            ]
          },
          "metadata": {},
          "execution_count": 26
        }
      ],
      "source": [
        "stats(10,10,add_bst2)"
      ]
    },
    {
      "cell_type": "markdown",
      "metadata": {
        "id": "oeZ0wHHSrSFm"
      },
      "source": [
        "#Question 5\n",
        "---\n",
        "lst=list(range(10,100,10))+list(range(100,1000,100))+list(range(1000,10001,1000))\n",
        "\n",
        "lst=[10, 20, 30, 40, 50, 60, 70, 80, 90, 100, 200, 300, 400, 500, 600, 700, 800, 900, 1000, 2000, 3000, 4000, 5000, 6000, 7000, 8000, 9000, 10000]\n",
        "\n",
        "\n",
        "for each **n** in lst , we call **stats(n,nbr)** with **nbr=100**"
      ]
    },
    {
      "cell_type": "code",
      "execution_count": null,
      "metadata": {
        "id": "CJM05tW6lyGD"
      },
      "outputs": [],
      "source": [
        "import matplotlib.pyplot as plt"
      ]
    },
    {
      "cell_type": "code",
      "execution_count": null,
      "metadata": {
        "colab": {
          "base_uri": "https://localhost:8080/"
        },
        "id": "7HgkJkIBrhum",
        "outputId": "07cb3fc9-6265-46d0-a563-02b2bb5b3447"
      },
      "outputs": [
        {
          "output_type": "stream",
          "name": "stdout",
          "text": [
            "[10, 20, 30, 40, 50, 60, 70, 80, 90, 100, 200, 300, 400, 500, 600, 700, 800, 900, 1000, 2000, 3000, 4000, 5000, 6000, 7000, 8000, 9000, 10000]\n"
          ]
        }
      ],
      "source": [
        "lst = list(range(10,100,10))+list(range(100,1000,100))+list(range(1000,10001,1000))\n",
        "print(lst)"
      ]
    },
    {
      "cell_type": "code",
      "execution_count": null,
      "metadata": {
        "colab": {
          "base_uri": "https://localhost:8080/"
        },
        "id": "OiJVU0k2rp72",
        "outputId": "d233da91-4db1-4750-e1f8-6d5d9bdf2a58"
      },
      "outputs": [
        {
          "output_type": "execute_result",
          "data": {
            "text/plain": [
              "28"
            ]
          },
          "metadata": {},
          "execution_count": 29
        }
      ],
      "source": [
        "len(lst)"
      ]
    },
    {
      "cell_type": "code",
      "execution_count": null,
      "metadata": {
        "id": "x_E_ljyrk1Qy"
      },
      "outputs": [],
      "source": [
        "data = []\n",
        "for i in lst:   #add value of stats(i,100,add_bst) in data\n",
        "  data.append(stats(i,100,add_bst))\n"
      ]
    },
    {
      "cell_type": "markdown",
      "metadata": {
        "id": "pZNW4hUWtGYn"
      },
      "source": [
        "We define the **log_ab(x,a,b)** that compute **alog(x)-b** ."
      ]
    },
    {
      "cell_type": "code",
      "execution_count": null,
      "metadata": {
        "id": "RMbp5_TPmLNz"
      },
      "outputs": [],
      "source": [
        "def log_ab(x,a,b):\n",
        "  return a*np.log(x)-b"
      ]
    },
    {
      "cell_type": "markdown",
      "metadata": {
        "id": "p2CY2v-PtmpD"
      },
      "source": [
        "We plot on the same diagram **data** and **log_ab(x,a,b)** for in **data**.\n",
        "\n",
        "\n",
        "\n"
      ]
    },
    {
      "cell_type": "code",
      "execution_count": null,
      "metadata": {
        "colab": {
          "base_uri": "https://localhost:8080/",
          "height": 430
        },
        "id": "dVvBmkJ9nYFT",
        "outputId": "6876aca4-9e01-4696-f0e7-8a7c87e54712"
      },
      "outputs": [
        {
          "output_type": "display_data",
          "data": {
            "text/plain": [
              "<Figure size 640x480 with 1 Axes>"
            ],
            "image/png": "[encoded data removed]"
          },
          "metadata": {}
        }
      ],
      "source": [
        "plt.plot(lst,data)\n",
        "plt.plot(lst,log_ab(data,40,12\n",
        "                    ),color='r')\n",
        "plt.show()"
      ]
    },
    {
      "cell_type": "code",
      "execution_count": null,
      "metadata": {
        "id": "iY6UpNwDY3_H"
      },
      "outputs": [],
      "source": [
        "data2 = []\n",
        "for i in lst:   #add value of stats(i,100,add_bst2) in data\n",
        "  data2.append(stats(i,100,add_bst2))"
      ]
    },
    {
      "cell_type": "markdown",
      "metadata": {
        "id": "6Ji2H05auO6Q"
      },
      "source": [
        "We plot on the same diagram **data2** and **log_ab(x,a,b)** for in **data2**.\n"
      ]
    },
    {
      "cell_type": "code",
      "execution_count": null,
      "metadata": {
        "colab": {
          "base_uri": "https://localhost:8080/",
          "height": 430
        },
        "id": "LAFwvZ9Fn38H",
        "outputId": "6b442c5f-fdd5-49de-d961-68c72d81ab06"
      },
      "outputs": [
        {
          "output_type": "display_data",
          "data": {
            "text/plain": [
              "<Figure size 640x480 with 1 Axes>"
            ],
            "image/png": "[encoded data removed]"
          },
          "metadata": {}
        }
      ],
      "source": [
        "plt.plot(lst,data2)\n",
        "plt.plot(lst,log_ab(data2,10,4\n",
        "                    ),color='r')\n",
        "plt.show()"
      ]
    },
    {
      "cell_type": "markdown",
      "metadata": {
        "id": "cFY_tkbYuUHk"
      },
      "source": [
        "We can conclude that the plot with **data2** finding with second function of adding value in a BST, is more similar to the plot **alog(x)-b** for a choosen **a** and **b**."
      ]
    }
  ],
  "metadata": {
    "colab": {
      "provenance": []
    },
    "kernelspec": {
      "display_name": "Python 3 (ipykernel)",
      "language": "python",
      "name": "python3"
    },
    "language_info": {
      "codemirror_mode": {
        "name": "ipython",
        "version": 3
      },
      "file_extension": ".py",
      "mimetype": "text/x-python",
      "name": "python",
      "nbconvert_exporter": "python",
      "pygments_lexer": "ipython3",
      "version": "3.12.7"
    }
  },
  "nbformat": 4,
  "nbformat_minor": 0
}